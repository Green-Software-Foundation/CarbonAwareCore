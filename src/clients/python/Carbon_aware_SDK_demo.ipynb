{
 "cells": [
  {
   "cell_type": "markdown",
   "id": "c852ee2c-63e7-4d50-b5d5-8f793574f3c2",
   "metadata": {},
   "source": [
    "# Carbon Aware SDK Demo Notebook"
   ]
  },
  {
   "cell_type": "markdown",
   "id": "2c711e3d-fbc2-4ae6-bb58-dd44f8567a0e",
   "metadata": {},
   "source": [
    "This notebook is supposed to give you an introduction to using the Carbon Aware SDK, by interacting with it deployed as a Web API. For a guide on setting it up as a Web API, see the GettingStarted.md guide in the main repo of the project: https://github.com/Green-Software-Foundation/carbon-aware-sdk/blob/dev/GettingStarted.md"
   ]
  },
  {
   "cell_type": "code",
   "execution_count": null,
   "id": "a4594ce1-6ca4-4351-9ba8-e1aecb049422",
   "metadata": {},
   "outputs": [],
   "source": [
    "# Get all regions to find worst possible region:"
   ]
  },
  {
   "cell_type": "code",
   "execution_count": 1,
   "id": "be34aba0-885b-44bd-9321-42d9da34d037",
   "metadata": {},
   "outputs": [
    {
     "name": "stdout",
     "output_type": "stream",
     "text": [
      "[{'duration': '00:05:00',\n",
      " 'location': 'CAISO_NORTH',\n",
      " 'rating': 409.59391011,\n",
      " 'time': datetime.datetime(2022, 7, 22, 11, 0, tzinfo=tzutc())},\n",
      " {'duration': '00:05:00',\n",
      " 'location': 'CAISO_NORTH',\n",
      " 'rating': 406.87235589,\n",
      " 'time': datetime.datetime(2022, 7, 22, 10, 55, tzinfo=tzutc())},\n",
      " {'duration': '00:05:00',\n",
      " 'location': 'CAISO_NORTH',\n",
      " 'rating': 406.87235589,\n",
      " 'time': datetime.datetime(2022, 7, 22, 10, 50, tzinfo=tzutc())},\n",
      " {'duration': '00:05:00',\n",
      " 'location': 'CAISO_NORTH',\n",
      " 'rating': 406.87235589,\n",
      " 'time': datetime.datetime(2022, 7, 22, 10, 45, tzinfo=tzutc())},\n",
      " {'duration': '00:05:00',\n",
      " 'location': 'CAISO_NORTH',\n",
      " 'rating': 406.87235589,\n",
      " 'time': datetime.datetime(2022, 7, 22, 10, 40, tzinfo=tzutc())},\n",
      " {'duration': '00:05:00',\n",
      " 'location': 'CAISO_NORTH',\n",
      " 'rating': 406.87235589,\n",
      " 'time': datetime.datetime(2022, 7, 22, 10, 35, tzinfo=tzutc())},\n",
      " {'duration': '00:05:00',\n",
      " 'location': 'CAISO_NORTH',\n",
      " 'rating': 407.32594826,\n",
      " 'time': datetime.datetime(2022, 7, 22, 10, 30, tzinfo=tzutc())},\n",
      " {'duration': '00:05:00',\n",
      " 'location': 'CAISO_NORTH',\n",
      " 'rating': 407.32594826,\n",
      " 'time': datetime.datetime(2022, 7, 22, 10, 25, tzinfo=tzutc())}]\n"
     ]
    }
   ],
   "source": [
    "# Getting data with the Carbon Aware SDK\n",
    "import time\n",
    "import openapi_client\n",
    "from pprint import pprint\n",
    "from openapi_client.api import carbon_aware_api\n",
    "from openapi_client.model.emissions_data import EmissionsData\n",
    "from  dateutil.parser import parse\n",
    "# Defining the host is optional and defaults to http://localhost\n",
    "# See configuration.py for a list of all supported configuration parameters.\n",
    "configuration = openapi_client.Configuration(\n",
    "        host = \"https://carbon-aware-sdk.azurewebsites.net\"\n",
    "        #host = \"http://localhost:5073\"\n",
    ")\n",
    "\n",
    "\n",
    " \n",
    "# Enter a context with an instance of the API client\n",
    "with openapi_client.ApiClient(configuration) as api_client:\n",
    "    # Create an instance of the API class\n",
    "    api_instance = carbon_aware_api.CarbonAwareApi(api_client)\n",
    "    location = \"westus\" # str |  (optional)\n",
    "    time = parse('2022-07-22T10:30:00.00Z') # datetime |  (optional)\n",
    "    to_time = parse('2022-07-22T11:00:00.00Z') # datetime |  (optional)\n",
    "    duration_minutes = 0 # int |  (optional) (default to 0)\n",
    "\n",
    "    try:\n",
    "        api_response = api_instance.get_emissions_data_for_location_by_time(location=location, time=time, to_time=to_time, duration_minutes=duration_minutes)\n",
    "\n",
    "        pprint(api_response)\n",
    "    except openapi_client.ApiException as e:\n",
    "        print(\"Exception when calling CarbonAwareApi->emissions_bylocation_get: %s\\n\" % e)\n",
    "\n"
   ]
  },
  {
   "cell_type": "markdown",
   "id": "b4e03f1b-c2b4-432d-bddc-58b283c21436",
   "metadata": {},
   "source": [
    "# By Making Applications Carbon Aware, we can decrease carbon footprint of software by up to 76%!\n",
    "Based on example of moving from westcentralus to francecentral - times used for calculation:\n",
    "- westcentralus: 2022-08-15 20:55\n",
    "- francecentral: 2022-08-15 13:45"
   ]
  },
  {
   "cell_type": "markdown",
   "id": "25d4bc34-49bb-44ac-9179-73707224a8ff",
   "metadata": {},
   "source": [
    "## Scenario:\n",
    "A software engineer is running data processing job at 8:55 pm every day. The job is run in `westcentralus` Azure Data centre. He suspects that running the task at a different time of day, might produce less carbon emissions, since there is more solar energy in the grid during the day.\n",
    "1. He wants to check, what is the current carbon intensity in that location.\n",
    "2. He also would like to know, if it is better for the planet 🌍, to run this task at a different time of day.\n",
    "\n",
    "He decides to use the Carbon Aware SDK to satisfy his curiosity, and possibly build a business case to move the job to another time, if his findings confirm his suspicions. He has cloned the [repository](https://github.com/Green-Software-Foundation/carbon-aware-sdk), and hosted it locally as a Web API on https://localhost:5073\n",
    "\n",
    "\n",
    "1. He starts by running a query on the `/emissions/bylocation` endpoint of the Carbon Aware SDK, for the region `westcentralus` and time 8:55pm:"
   ]
  },
  {
   "cell_type": "code",
   "execution_count": 5,
   "id": "26fc1dca-2fa9-4b8e-a7b2-77e95d35094b",
   "metadata": {},
   "outputs": [],
   "source": [
    "## Engineer's preperations:\n",
    "# Getting data with the Carbon Aware SDK\n",
    "import os\n",
    "import datetime\n",
    "import openapi_client\n",
    "from pprint import pprint\n",
    "from openapi_client.api import carbon_aware_api\n",
    "from openapi_client.model.emissions_data import EmissionsData\n",
    "from  dateutil.parser import parse\n",
    "from dotenv import load_dotenv\n",
    "\n",
    "# Load env variables:\n",
    "load_dotenv()\n",
    "try:\n",
    "    host_url = os.environ[\"SDK_WEB_HOST\"]\n",
    "except KeyError:\n",
    "    print(\"SDK_WEB_HOST environment var not set, using localhost\")\n",
    "    host_url = \"http://localhost:5073\"\n",
    "    \n",
    "# Defining the host is optional and defaults to http://localhost\n",
    "# See configuration.py for a list of all supported configuration parameters.\n",
    "configuration = openapi_client.Configuration(\n",
    "        host = host_url\n",
    ")\n"
   ]
  },
  {
   "cell_type": "markdown",
   "id": "78dcabad-16bf-43bd-bf33-e7bf4d28eca5",
   "metadata": {},
   "source": [
    "Running the actual query:"
   ]
  },
  {
   "cell_type": "code",
   "execution_count": 10,
   "id": "3048c334-a2a6-4e6a-a72b-6e20c57299f3",
   "metadata": {},
   "outputs": [
    {
     "name": "stdout",
     "output_type": "stream",
     "text": [
      "[{'duration': '00:05:00',\n",
      " 'location': 'PACE',\n",
      " 'rating': 928.50358139,\n",
      " 'time': datetime.datetime(2022, 8, 15, 20, 50, tzinfo=tzutc())}]\n"
     ]
    }
   ],
   "source": [
    "# Enter a context with an instance of the API client\n",
    "with openapi_client.ApiClient(configuration) as api_client:\n",
    "    # Create an instance of the API class\n",
    "    api_instance = carbon_aware_api.CarbonAwareApi(api_client)\n",
    "    location = \"westcentralus\"               # str |  (optional)\n",
    "    start_time = parse('2022-08-15T20:55')   # datetime |  (optional)\n",
    "    to_time = parse('2022-08-15T20:50')      # datetime |  (optional)\n",
    "    duration_minutes = 0                     # int |  (optional) (default to 0)\n",
    "\n",
    "    try:\n",
    "        api_response = api_instance.get_emissions_data_for_location_by_time(location=location, time=start_time, to_time=to_time, duration_minutes=duration_minutes)\n",
    "\n",
    "        pprint(api_response)\n",
    "    except openapi_client.ApiException as e:\n",
    "        print(\"Exception when calling CarbonAwareApi->emissions_bylocation_get: %s\\n\" % e)"
   ]
  }
 ],
 "metadata": {
  "kernelspec": {
   "display_name": "Python 3 (ipykernel)",
   "language": "python",
   "name": "python3"
  },
  "language_info": {
   "codemirror_mode": {
    "name": "ipython",
    "version": 3
   },
   "file_extension": ".py",
   "mimetype": "text/x-python",
   "name": "python",
   "nbconvert_exporter": "python",
   "pygments_lexer": "ipython3",
   "version": "3.8.9"
  }
 },
 "nbformat": 4,
 "nbformat_minor": 5
}

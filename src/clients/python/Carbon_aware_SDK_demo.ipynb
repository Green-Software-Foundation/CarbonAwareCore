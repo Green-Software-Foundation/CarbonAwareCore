{
 "cells": [
  {
   "cell_type": "markdown",
   "id": "c852ee2c-63e7-4d50-b5d5-8f793574f3c2",
   "metadata": {},
   "source": [
    "# Carbon Aware SDK Demo Notebook"
   ]
  },
  {
   "cell_type": "markdown",
   "id": "2c711e3d-fbc2-4ae6-bb58-dd44f8567a0e",
   "metadata": {},
   "source": [
    "This notebook is supposed to give you an introduction to using the Carbon Aware SDK, by interacting with it deployed as a Web API. For a guide on setting it up as a Web API, see the GettingStarted.md guide in the main repo of the project: https://github.com/Green-Software-Foundation/carbon-aware-sdk/blob/dev/GettingStarted.md"
   ]
  },
  {
   "cell_type": "code",
   "execution_count": null,
   "id": "a4594ce1-6ca4-4351-9ba8-e1aecb049422",
   "metadata": {},
   "outputs": [],
   "source": [
    "# Get all regions to find worst possible region:"
   ]
  },
  {
   "cell_type": "code",
   "execution_count": 1,
   "id": "be34aba0-885b-44bd-9321-42d9da34d037",
   "metadata": {},
   "outputs": [
    {
     "name": "stdout",
     "output_type": "stream",
     "text": [
      "[{'duration': '00:05:00',\n",
      " 'location': 'CAISO_NORTH',\n",
      " 'rating': 409.59391011,\n",
      " 'time': datetime.datetime(2022, 7, 22, 11, 0, tzinfo=tzutc())},\n",
      " {'duration': '00:05:00',\n",
      " 'location': 'CAISO_NORTH',\n",
      " 'rating': 406.87235589,\n",
      " 'time': datetime.datetime(2022, 7, 22, 10, 55, tzinfo=tzutc())},\n",
      " {'duration': '00:05:00',\n",
      " 'location': 'CAISO_NORTH',\n",
      " 'rating': 406.87235589,\n",
      " 'time': datetime.datetime(2022, 7, 22, 10, 50, tzinfo=tzutc())},\n",
      " {'duration': '00:05:00',\n",
      " 'location': 'CAISO_NORTH',\n",
      " 'rating': 406.87235589,\n",
      " 'time': datetime.datetime(2022, 7, 22, 10, 45, tzinfo=tzutc())},\n",
      " {'duration': '00:05:00',\n",
      " 'location': 'CAISO_NORTH',\n",
      " 'rating': 406.87235589,\n",
      " 'time': datetime.datetime(2022, 7, 22, 10, 40, tzinfo=tzutc())},\n",
      " {'duration': '00:05:00',\n",
      " 'location': 'CAISO_NORTH',\n",
      " 'rating': 406.87235589,\n",
      " 'time': datetime.datetime(2022, 7, 22, 10, 35, tzinfo=tzutc())},\n",
      " {'duration': '00:05:00',\n",
      " 'location': 'CAISO_NORTH',\n",
      " 'rating': 407.32594826,\n",
      " 'time': datetime.datetime(2022, 7, 22, 10, 30, tzinfo=tzutc())},\n",
      " {'duration': '00:05:00',\n",
      " 'location': 'CAISO_NORTH',\n",
      " 'rating': 407.32594826,\n",
      " 'time': datetime.datetime(2022, 7, 22, 10, 25, tzinfo=tzutc())}]\n"
     ]
    }
   ],
   "source": [
    "# Getting data with the Carbon Aware SDK\n",
    "import time\n",
    "import openapi_client\n",
    "from pprint import pprint\n",
    "from openapi_client.api import carbon_aware_api\n",
    "from openapi_client.model.emissions_data import EmissionsData\n",
    "from  dateutil.parser import parse\n",
    "# Defining the host is optional and defaults to http://localhost\n",
    "# See configuration.py for a list of all supported configuration parameters.\n",
    "configuration = openapi_client.Configuration(\n",
    "        host = \"https://carbon-aware-sdk.azurewebsites.net\"\n",
    "        #host = \"http://localhost:5073\"\n",
    ")\n",
    "\n",
    "\n",
    " \n",
    "# Enter a context with an instance of the API client\n",
    "with openapi_client.ApiClient(configuration) as api_client:\n",
    "    # Create an instance of the API class\n",
    "    api_instance = carbon_aware_api.CarbonAwareApi(api_client)\n",
    "    location = \"westus\" # str |  (optional)\n",
    "    time = parse('2022-07-22T10:30:00.00Z') # datetime |  (optional)\n",
    "    to_time = parse('2022-07-22T11:00:00.00Z') # datetime |  (optional)\n",
    "    duration_minutes = 0 # int |  (optional) (default to 0)\n",
    "\n",
    "    try:\n",
    "        api_response = api_instance.get_emissions_data_for_location_by_time(location=location, time=time, to_time=to_time, duration_minutes=duration_minutes)\n",
    "\n",
    "        pprint(api_response)\n",
    "    except openapi_client.ApiException as e:\n",
    "        print(\"Exception when calling CarbonAwareApi->emissions_bylocation_get: %s\\n\" % e)\n",
    "\n"
   ]
  }
 ],
 "metadata": {
  "kernelspec": {
   "display_name": "Python 3 (ipykernel)",
   "language": "python",
   "name": "python3"
  },
  "language_info": {
   "codemirror_mode": {
    "name": "ipython",
    "version": 3
   },
   "file_extension": ".py",
   "mimetype": "text/x-python",
   "name": "python",
   "nbconvert_exporter": "python",
   "pygments_lexer": "ipython3",
   "version": "3.8.9"
  }
 },
 "nbformat": 4,
 "nbformat_minor": 5
}

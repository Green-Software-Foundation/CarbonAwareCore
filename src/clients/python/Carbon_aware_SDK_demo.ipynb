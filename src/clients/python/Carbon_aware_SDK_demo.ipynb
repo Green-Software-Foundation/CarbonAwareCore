{
 "cells": [
  {
   "cell_type": "markdown",
   "id": "c852ee2c-63e7-4d50-b5d5-8f793574f3c2",
   "metadata": {},
   "source": [
    "# Carbon Aware SDK Demo Notebook"
   ]
  },
  {
   "cell_type": "markdown",
   "id": "2c711e3d-fbc2-4ae6-bb58-dd44f8567a0e",
   "metadata": {},
   "source": [
    "This notebook is supposed to give you an introduction to using the Carbon Aware SDK, by interacting with it deployed as a Web API. For a guide on setting it up as a Web API, see the GettingStarted.md guide in the main repo of the project: https://github.com/Green-Software-Foundation/carbon-aware-sdk/blob/dev/GettingStarted.md"
   ]
  },
  {
   "cell_type": "code",
   "execution_count": null,
   "id": "a4594ce1-6ca4-4351-9ba8-e1aecb049422",
   "metadata": {},
   "outputs": [],
   "source": [
    "# Get all regions to find worst possible region:"
   ]
  },
  {
   "cell_type": "code",
   "execution_count": 1,
   "id": "be34aba0-885b-44bd-9321-42d9da34d037",
   "metadata": {},
   "outputs": [
    {
     "name": "stdout",
     "output_type": "stream",
     "text": [
      "[{'duration': '00:05:00',\n",
      " 'location': 'CAISO_NORTH',\n",
      " 'rating': 409.59391011,\n",
      " 'time': datetime.datetime(2022, 7, 22, 11, 0, tzinfo=tzutc())},\n",
      " {'duration': '00:05:00',\n",
      " 'location': 'CAISO_NORTH',\n",
      " 'rating': 406.87235589,\n",
      " 'time': datetime.datetime(2022, 7, 22, 10, 55, tzinfo=tzutc())},\n",
      " {'duration': '00:05:00',\n",
      " 'location': 'CAISO_NORTH',\n",
      " 'rating': 406.87235589,\n",
      " 'time': datetime.datetime(2022, 7, 22, 10, 50, tzinfo=tzutc())},\n",
      " {'duration': '00:05:00',\n",
      " 'location': 'CAISO_NORTH',\n",
      " 'rating': 406.87235589,\n",
      " 'time': datetime.datetime(2022, 7, 22, 10, 45, tzinfo=tzutc())},\n",
      " {'duration': '00:05:00',\n",
      " 'location': 'CAISO_NORTH',\n",
      " 'rating': 406.87235589,\n",
      " 'time': datetime.datetime(2022, 7, 22, 10, 40, tzinfo=tzutc())},\n",
      " {'duration': '00:05:00',\n",
      " 'location': 'CAISO_NORTH',\n",
      " 'rating': 406.87235589,\n",
      " 'time': datetime.datetime(2022, 7, 22, 10, 35, tzinfo=tzutc())},\n",
      " {'duration': '00:05:00',\n",
      " 'location': 'CAISO_NORTH',\n",
      " 'rating': 407.32594826,\n",
      " 'time': datetime.datetime(2022, 7, 22, 10, 30, tzinfo=tzutc())},\n",
      " {'duration': '00:05:00',\n",
      " 'location': 'CAISO_NORTH',\n",
      " 'rating': 407.32594826,\n",
      " 'time': datetime.datetime(2022, 7, 22, 10, 25, tzinfo=tzutc())}]\n"
     ]
    }
   ],
   "source": [
    "# Getting data with the Carbon Aware SDK\n",
    "import time\n",
    "import openapi_client\n",
    "from pprint import pprint\n",
    "from openapi_client.api import carbon_aware_api\n",
    "from openapi_client.model.emissions_data import EmissionsData\n",
    "from  dateutil.parser import parse\n",
    "# Defining the host is optional and defaults to http://localhost\n",
    "# See configuration.py for a list of all supported configuration parameters.\n",
    "configuration = openapi_client.Configuration(\n",
    "        host = \"https://carbon-aware-sdk.azurewebsites.net\"\n",
    "        #host = \"http://localhost:5073\"\n",
    ")\n",
    "\n",
    "\n",
    " \n",
    "# Enter a context with an instance of the API client\n",
    "with openapi_client.ApiClient(configuration) as api_client:\n",
    "    # Create an instance of the API class\n",
    "    api_instance = carbon_aware_api.CarbonAwareApi(api_client)\n",
    "    location = \"westus\" # str |  (optional)\n",
    "    time = parse('2022-07-22T10:30:00.00Z') # datetime |  (optional)\n",
    "    to_time = parse('2022-07-22T11:00:00.00Z') # datetime |  (optional)\n",
    "    duration_minutes = 0 # int |  (optional) (default to 0)\n",
    "\n",
    "    try:\n",
    "        api_response = api_instance.get_emissions_data_for_location_by_time(location=location, time=time, to_time=to_time, duration_minutes=duration_minutes)\n",
    "\n",
    "        pprint(api_response)\n",
    "    except openapi_client.ApiException as e:\n",
    "        print(\"Exception when calling CarbonAwareApi->emissions_bylocation_get: %s\\n\" % e)\n",
    "\n"
   ]
  },
  {
   "cell_type": "markdown",
   "id": "b4e03f1b-c2b4-432d-bddc-58b283c21436",
   "metadata": {},
   "source": [
    "# By Making Applications Carbon Aware, we can decrease carbon footprint of software by up to 76%!\n",
    "Based on example of moving from westcentralus to francecentral - times used for calculation:\n",
    "- westcentralus: 2022-08-15 20:55\n",
    "- francecentral: 2022-08-15 13:45"
   ]
  },
  {
   "cell_type": "markdown",
   "id": "25d4bc34-49bb-44ac-9179-73707224a8ff",
   "metadata": {},
   "source": [
    "## Scenario:\n",
    "A software engineer is running data processing job at 8:55 pm every day. The job is run in `westcentralus` Azure Data centre. He suspects that running the task at a different time of day, might produce less carbon emissions, since there is more solar energy in the grid during the day.\n",
    "1. He wants to check, what is the current carbon intensity in that location.\n",
    "2. He also would like to know, if it is better for the planet 🌍, to run this task at a different time of day.\n",
    "\n",
    "He decides to use the Carbon Aware SDK to satisfy his curiosity, and possibly build a business case to move the job to another time, if his findings confirm his suspicions. He has cloned the [repository](https://github.com/Green-Software-Foundation/carbon-aware-sdk), and hosted it locally as a Web API on https://localhost:5073\n",
    "\n",
    "\n",
    "1. He starts by running a query on the `/emissions/bylocation` endpoint of the Carbon Aware SDK, for the region `westcentralus` and time 8:55pm:"
   ]
  },
  {
   "cell_type": "code",
   "execution_count": 5,
   "id": "26fc1dca-2fa9-4b8e-a7b2-77e95d35094b",
   "metadata": {},
   "outputs": [],
   "source": [
    "## Engineer's preperations:\n",
    "# Getting data with the Carbon Aware SDK\n",
    "import os\n",
    "import pytz\n",
    "import datetime\n",
    "import openapi_client\n",
    "from pprint import pprint\n",
    "from openapi_client.api import carbon_aware_api\n",
    "from openapi_client.model.emissions_data import EmissionsData\n",
    "from  dateutil.parser import parse\n",
    "from dotenv import load_dotenv\n",
    "\n",
    "# Load env variables:\n",
    "load_dotenv()\n",
    "try:\n",
    "    host_url = os.environ[\"SDK_WEB_HOST\"]\n",
    "except KeyError:\n",
    "    print(\"SDK_WEB_HOST environment var not set, using localhost\")\n",
    "    host_url = \"http://localhost:5073\"\n",
    "    \n",
    "# Defining the host is optional and defaults to http://localhost\n",
    "# See configuration.py for a list of all supported configuration parameters.\n",
    "configuration = openapi_client.Configuration(\n",
    "        host = host_url\n",
    ")\n"
   ]
  },
  {
   "cell_type": "markdown",
   "id": "78dcabad-16bf-43bd-bf33-e7bf4d28eca5",
   "metadata": {},
   "source": [
    "Running the actual query, with parameters:\n",
    "- location: `westcentralus`\n",
    "- start_time: 2022-08-15 21:00\n",
    "- end_time: 2022-08-15 20:55\n",
    "- duration_minutes: 0"
   ]
  },
  {
   "cell_type": "code",
   "execution_count": 11,
   "id": "3048c334-a2a6-4e6a-a72b-6e20c57299f3",
   "metadata": {},
   "outputs": [
    {
     "name": "stdout",
     "output_type": "stream",
     "text": [
      "[{'duration': '00:05:00',\n",
      " 'location': 'PACE',\n",
      " 'rating': 928.50358139,\n",
      " 'time': datetime.datetime(2022, 8, 15, 20, 55, tzinfo=tzutc())}]\n"
     ]
    }
   ],
   "source": [
    "# Enter a context with an instance of the API client\n",
    "with openapi_client.ApiClient(configuration) as api_client:\n",
    "    # Create an instance of the API class\n",
    "    api_instance = carbon_aware_api.CarbonAwareApi(api_client)\n",
    "    location = \"westcentralus\"               # str |  (required)\n",
    "    start_time = parse('2022-08-15T21:00')   # datetime |  (optional)\n",
    "    to_time = parse('2022-08-15T20:55')      # datetime |  (optional)\n",
    "    duration_minutes = 0                     # int |  (optional) (default to 0)\n",
    "\n",
    "    try:\n",
    "        api_response = api_instance.get_emissions_data_for_location_by_time(location=location, time=start_time, to_time=to_time, duration_minutes=duration_minutes)\n",
    "\n",
    "        pprint(api_response)\n",
    "    except openapi_client.ApiException as e:\n",
    "        print(\"Exception when calling CarbonAwareApi->emissions_bylocation_get: %s\\n\" % e)"
   ]
  },
  {
   "cell_type": "markdown",
   "id": "ba5a2d71-1abd-49a4-b821-943f7e19fa54",
   "metadata": {},
   "source": [
    "From the query above, the software engineer can see that the carbon intensity in `westcentralus` at 8:55pm is `928.5` grams CO2 per kWh. That's a lot!\n",
    "\n",
    "He wonders whether running it at a different time of day might improve that value, so he makes a query to find the best time of day for running his job, by polling the `/emissions/bylocations/best` endpoint. (It will return a single location and time with the lowest carbon intensity in a given time window). He runs it, telling the SDK to look for best time between 12am on 15.08.2022 and 11:59pm on 15.08.2022.\n",
    "\n",
    "parameters:\n",
    "- locations: [`westcentralus`]\n",
    "- start_time: 2022-08-15 00:00\n",
    "- end_time: 2022-08-15 23:59\n",
    "- duration_minutes: 0"
   ]
  },
  {
   "cell_type": "code",
   "execution_count": 37,
   "id": "b165478c-1cf3-4c3e-98ec-3f26d324ebdf",
   "metadata": {},
   "outputs": [
    {
     "name": "stdout",
     "output_type": "stream",
     "text": [
      "Best time for running the job\n",
      "{'duration': '00:05:00',\n",
      " 'location': 'PACE',\n",
      " 'rating': 493.96209093,\n",
      " 'time': datetime.datetime(2022, 8, 14, 23, 55, tzinfo=tzutc())}\n"
     ]
    }
   ],
   "source": [
    "# Enter a context with an instance of the API client\n",
    "with openapi_client.ApiClient(configuration) as api_client:\n",
    "    # Create an instance of the API class\n",
    "    api_instance = carbon_aware_api.CarbonAwareApi(api_client)\n",
    "    locations = [\"westcentralus\"    ]        # List[str] |  (required)\n",
    "    start_time = parse('2022-08-15T00:00')   # datetime |  (optional)\n",
    "    to_time = parse('2022-08-15T20:55')      # datetime |  (optional)\n",
    "    duration_minutes = 0                     # int |  (optional) (default to 0)\n",
    "\n",
    "    try:\n",
    "        api_response = api_instance.get_best_emissions_data_for_locations_by_time(location=locations, time=start_time, to_time=to_time, duration_minutes=duration_minutes)\n",
    "\n",
    "        print(\"Best time for running the job\")\n",
    "        pprint(api_response)\n",
    "    except openapi_client.ApiException as e:\n",
    "        print(\"Exception when calling CarbonAwareApi->emissions_bylocation_get: %s\\n\" % e)"
   ]
  },
  {
   "cell_type": "markdown",
   "id": "23efe037-e0c0-4fd9-88bf-4200a7df5f41",
   "metadata": {},
   "source": [
    "## Outcome of time shifting: Carbon footprint decrased by up to 47%!\n",
    "Engineer's short experiment showed him that moving the job to a different time (In this case, 11:55 pm UTC), he can decrease the carbon emissions from `928.5` gram CO2 per kWh to `494.0`!"
   ]
  },
  {
   "cell_type": "markdown",
   "id": "d2ed3390-5cc8-4462-876b-614fd3df15dc",
   "metadata": {},
   "source": [
    "Below, we can see data for this region for past 30 days with the original and time shifted values of carbon emissions in `westcentralus`."
   ]
  },
  {
   "cell_type": "code",
   "execution_count": 47,
   "id": "c9f1e2d6-5c94-4c72-ae0a-57855077f7f3",
   "metadata": {},
   "outputs": [
    {
     "name": "stdout",
     "output_type": "stream",
     "text": [
      "[{'duration': '00:05:00',\n",
      " 'location': 'PACE',\n",
      " 'rating': 493.96209093,\n",
      " 'time': datetime.datetime(2022, 8, 15, 23, 55, tzinfo=tzutc())},\n",
      " {'duration': '00:05:00',\n",
      " 'location': 'PACE',\n",
      " 'rating': 418.21216514,\n",
      " 'time': datetime.datetime(2022, 8, 15, 23, 50, tzinfo=tzutc())},\n",
      " {'duration': '00:05:00',\n",
      " 'location': 'PACE',\n",
      " 'rating': 619.6071774200001,\n",
      " 'time': datetime.datetime(2022, 8, 15, 23, 45, tzinfo=tzutc())},\n",
      " {'duration': '00:05:00',\n",
      " 'location': 'PACE',\n",
      " 'rating': 584.22697256,\n",
      " 'time': datetime.datetime(2022, 8, 15, 23, 40, tzinfo=tzutc())},\n",
      " {'duration': '00:05:00',\n",
      " 'location': 'PACE',\n",
      " 'rating': 608.72096054,\n",
      " 'time': datetime.datetime(2022, 8, 15, 23, 35, tzinfo=tzutc())}]\n"
     ]
    }
   ],
   "source": [
    "# Enter a context with an instance of the API client\n",
    "with openapi_client.ApiClient(configuration) as api_client:\n",
    "    # Create an instance of the API class\n",
    "    api_instance = carbon_aware_api.CarbonAwareApi(api_client)\n",
    "    location = \"westcentralus\"               # str |  (required)\n",
    "    start_time = parse('2022-07-17T00:05')   # datetime |  (optional)\n",
    "    to_time = parse('2022-08-15T23:59')      # datetime |  (optional)\n",
    "    duration_minutes = 0                     # int |  (optional) (default to 0)\n",
    "\n",
    "    try:\n",
    "        api_response = api_instance.get_emissions_data_for_location_by_time(location=location, time=start_time, to_time=to_time, duration_minutes=duration_minutes)\n",
    "        data_westcentralus = api_response[:]\n",
    "        pprint(api_response[:5])\n",
    "    except openapi_client.ApiException as e:\n",
    "        print(\"Exception when calling CarbonAwareApi->emissions_bylocation_get: %s\\n\" % e)"
   ]
  },
  {
   "cell_type": "markdown",
   "id": "ebec7b9c-f3b8-4d74-899e-1d088e201f3f",
   "metadata": {},
   "source": [
    "Grouping the data:"
   ]
  },
  {
   "cell_type": "code",
   "execution_count": 51,
   "id": "22ec43f5-25e4-4749-89bb-5c506be1f680",
   "metadata": {},
   "outputs": [
    {
     "name": "stdout",
     "output_type": "stream",
     "text": [
      "8:55 in west_centralus length:  30\n",
      "[{'duration': '00:05:00',\n",
      " 'location': 'PACE',\n",
      " 'rating': 928.50358139,\n",
      " 'time': datetime.datetime(2022, 8, 15, 20, 55, tzinfo=tzutc())},\n",
      " {'duration': '00:05:00',\n",
      " 'location': 'PACE',\n",
      " 'rating': 928.50358139,\n",
      " 'time': datetime.datetime(2022, 8, 14, 20, 55, tzinfo=tzutc())},\n",
      " {'duration': '00:05:00',\n",
      " 'location': 'PACE',\n",
      " 'rating': 824.63092866,\n",
      " 'time': datetime.datetime(2022, 8, 13, 20, 55, tzinfo=tzutc())}]\n",
      "8:55 in west_centralus length:  30\n",
      "[{'duration': '00:05:00',\n",
      " 'location': 'PACE',\n",
      " 'rating': 493.96209093,\n",
      " 'time': datetime.datetime(2022, 8, 15, 23, 55, tzinfo=tzutc())},\n",
      " {'duration': '00:05:00',\n",
      " 'location': 'PACE',\n",
      " 'rating': 493.96209093,\n",
      " 'time': datetime.datetime(2022, 8, 14, 23, 55, tzinfo=tzutc())},\n",
      " {'duration': '00:05:00',\n",
      " 'location': 'PACE',\n",
      " 'rating': 493.96209093,\n",
      " 'time': datetime.datetime(2022, 8, 13, 23, 55, tzinfo=tzutc())}]\n"
     ]
    }
   ],
   "source": [
    "data_8_55_westcentralus = list(filter(lambda x: x['time'].strftime('%H:%M:%S') == parse(\"2022-08-15T20:55\").strftime('%H:%M:%S'), data_westcentralus))\n",
    "print(\"8:55 in west_centralus length: \", len(data_8_55_westcentralus))\n",
    "pprint(data_8_55_westcentralus[:3])\n",
    "data_11_55_westcentralus = list(filter(lambda x: x['time'].strftime('%H:%M:%S') == parse(\"2022-08-15T23:55\").strftime('%H:%M:%S'), data_westcentralus))\n",
    "print(\"8:55 in west_centralus length: \", len(data_11_55_westcentralus))\n",
    "pprint(data_11_55_westcentralus[:3])\n"
   ]
  },
  {
   "cell_type": "markdown",
   "id": "90755f9d-2437-4b11-b61c-de3f96bc800c",
   "metadata": {},
   "source": [
    "Data to be plotted, see: https://www.machinelearningplus.com/plots/top-50-matplotlib-visualizations-the-master-plots-python/#35.-Time-Series-Plot"
   ]
  }
 ],
 "metadata": {
  "kernelspec": {
   "display_name": "Python 3 (ipykernel)",
   "language": "python",
   "name": "python3"
  },
  "language_info": {
   "codemirror_mode": {
    "name": "ipython",
    "version": 3
   },
   "file_extension": ".py",
   "mimetype": "text/x-python",
   "name": "python",
   "nbconvert_exporter": "python",
   "pygments_lexer": "ipython3",
   "version": "3.8.9"
  }
 },
 "nbformat": 4,
 "nbformat_minor": 5
}
